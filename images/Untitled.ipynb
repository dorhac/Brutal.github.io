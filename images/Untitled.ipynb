{
 "cells": [
  {
   "cell_type": "code",
   "execution_count": 1,
   "metadata": {},
   "outputs": [],
   "source": [
    "import os\n",
    "list = os.listdir() "
   ]
  },
  {
   "cell_type": "code",
   "execution_count": 2,
   "metadata": {},
   "outputs": [
    {
     "data": {
      "text/plain": [
       "['.ipynb_checkpoints',\n",
       " '20180317_161904-02_c.jpg',\n",
       " '21149947_10154909815212671_1897885371920952314_n_c.jpg',\n",
       " '397262701000100408271no.jpg',\n",
       " 'cenral-station-makati-bao-facebook.jpg',\n",
       " 'cenral-station-makati-soups.jpg',\n",
       " 'IMG-20190131-WA0005.jpg',\n",
       " 'IMG-20190131-WA0009.jpg',\n",
       " 'IMG_0746_6.jpg',\n",
       " 'IMG_8805.jpg',\n",
       " 'IMG_8851.jpg',\n",
       " 'IMG_8868.jpg',\n",
       " 'IMG_8880.jpg',\n",
       " 'IMG_8895.jpg',\n",
       " 'IMG_8925.jpg',\n",
       " 'IMG_8929.jpg',\n",
       " 'IMG_8930.jpg',\n",
       " 'IMG_8934.jpg',\n",
       " 'IMG_8936.jpg',\n",
       " 'IMG_8938.jpg',\n",
       " 'IMG_8939.jpg',\n",
       " 'IMG_8940.jpg',\n",
       " 'IMG_8942.jpg',\n",
       " 'IMG_8944.jpg',\n",
       " 'IMG_8946.jpg',\n",
       " 'IMG_8948.jpg',\n",
       " 'IMG_8949.jpg',\n",
       " 'IMG_8953.jpg',\n",
       " 'IMG_8963.jpg',\n",
       " 'IMG_8971.jpg',\n",
       " 'IMG_8975.jpg',\n",
       " 'Screen Shot 2019-11-26 at 16.53.14.png',\n",
       " 'Screen Shot 2019-11-26 at 17.33.48.png',\n",
       " 'Screen Shot 2019-11-26 at 17.52.37.png',\n",
       " 'Screen Shot 2019-11-27 at 13.35.56.png',\n",
       " 'Screen Shot 2019-11-27 at 13.37.22.png',\n",
       " 'Screen Shot 2019-11-27 at 13.37.50.png',\n",
       " 'Screen Shot 2019-11-27 at 13.38.29.png',\n",
       " 'Screen Shot 2019-11-27 at 13.39.27.png',\n",
       " 'Screen Shot 2019-11-27 at 13.40.28.png',\n",
       " 'Screen Shot 2019-11-27 at 13.41.03.png',\n",
       " 'Screen Shot 2019-11-27 at 13.43.07.png',\n",
       " 'Screen Shot 2019-11-27 at 15.05.18.png',\n",
       " 'Screen Shot 2019-11-27 at 15.05.48.png',\n",
       " 'Screen Shot 2019-11-27 at 15.06.00.png',\n",
       " 'Screen Shot 2019-11-27 at 15.08.45.png',\n",
       " 'Screen Shot 2019-11-27 at 15.11.26.png',\n",
       " 'Screen Shot 2019-11-27 at 15.12.51.png',\n",
       " 'Screen Shot 2019-11-27 at 15.17.25.png',\n",
       " 'Screen Shot 2019-11-27 at 15.17.51.png',\n",
       " 'Screen Shot 2019-11-27 at 15.19.31.png',\n",
       " 'Screen Shot 2019-11-27 at 15.20.19.png',\n",
       " 'Screen Shot 2019-11-27 at 15.26.54.png',\n",
       " 'Screen Shot 2019-11-27 at 15.49.35.png',\n",
       " 'Screen Shot 2020-01-04 at 21.18.30.png',\n",
       " 'Screen Shot 2020-01-04 at 21.19.29.png',\n",
       " 'Screen Shot 2020-01-04 at 21.23.59.png',\n",
       " 'Screen Shot 2020-01-04 at 21.24.30.png',\n",
       " 'Screen Shot 2020-01-04 at 21.26.05.png',\n",
       " 'Screen Shot 2020-01-04 at 21.27.59.png',\n",
       " 'Screen Shot 2020-01-04 at 21.28.42.png',\n",
       " 'Screen Shot 2020-01-12 at 0.09.11.png',\n",
       " 'Screen Shot 2020-01-12 at 0.12.08.png',\n",
       " 'Screen Shot 2020-01-12 at 0.12.32.png',\n",
       " 'Screen Shot 2020-01-22 at 0.26.58.png',\n",
       " 'Screen Shot 2020-01-22 at 0.28.41.png',\n",
       " 'Screen Shot 2020-01-22 at 0.31.05.png',\n",
       " 'Screen Shot 2020-01-22 at 0.37.46.png',\n",
       " 'Screen Shot 2020-01-22 at 0.42.45.png',\n",
       " 'Screen Shot 2020-01-22 at 0.53.48.png',\n",
       " 'Screen Shot 2020-01-22 at 0.55.14.png',\n",
       " 'Screen Shot 2020-01-22 at 0.55.25.png',\n",
       " 'Screen Shot 2020-01-22 at 0.55.37.png',\n",
       " 'Screen Shot 2020-01-22 at 0.58.50.png',\n",
       " 'Screen Shot 2020-01-22 at 0.59.00.png',\n",
       " 'Screen Shot 2020-01-22 at 0.59.13.png',\n",
       " 'Screen Shot 2020-01-22 at 0.59.44.png',\n",
       " 'TK732032_wa.jpg',\n",
       " 'Untitled.ipynb']"
      ]
     },
     "execution_count": 2,
     "metadata": {},
     "output_type": "execute_result"
    }
   ],
   "source": [
    "list"
   ]
  },
  {
   "cell_type": "code",
   "execution_count": 5,
   "metadata": {},
   "outputs": [],
   "source": [
    "for i in range(len(list)):\n",
    "    filename = list[i]\n",
    "    ext = filename[-4:]\n",
    "  \n",
    "    if ext == \".jpg\" or ext == \".png\":\n",
    "        os.rename(filename, str(i)+ \".jpg\")\n"
   ]
  },
  {
   "cell_type": "code",
   "execution_count": 42,
   "metadata": {},
   "outputs": [
    {
     "name": "stdout",
     "output_type": "stream",
     "text": [
      "61\n"
     ]
    }
   ],
   "source": [
    "print(j)"
   ]
  },
  {
   "cell_type": "code",
   "execution_count": null,
   "metadata": {},
   "outputs": [],
   "source": []
  }
 ],
 "metadata": {
  "kernelspec": {
   "display_name": "Python 3",
   "language": "python",
   "name": "python3"
  },
  "language_info": {
   "codemirror_mode": {
    "name": "ipython",
    "version": 3
   },
   "file_extension": ".py",
   "mimetype": "text/x-python",
   "name": "python",
   "nbconvert_exporter": "python",
   "pygments_lexer": "ipython3",
   "version": "3.6.9"
  }
 },
 "nbformat": 4,
 "nbformat_minor": 2
}
